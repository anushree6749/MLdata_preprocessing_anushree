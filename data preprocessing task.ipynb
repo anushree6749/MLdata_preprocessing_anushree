{
 "cells": [
  {
   "cell_type": "code",
   "execution_count": 1,
   "id": "6d2edeb1",
   "metadata": {},
   "outputs": [],
   "source": [
    "import numpy as np\n",
    "import pandas as pd\n",
    "import matplotlib.pyplot as plt\n",
    "import seaborn as sns\n"
   ]
  },
  {
   "cell_type": "code",
   "execution_count": 2,
   "id": "f9495f4c",
   "metadata": {},
   "outputs": [],
   "source": [
    "data=pd.read_csv(\"Employee.csv\")"
   ]
  },
  {
   "cell_type": "markdown",
   "id": "22e86975",
   "metadata": {},
   "source": [
    "### DATA EXPLORATION"
   ]
  },
  {
   "cell_type": "code",
   "execution_count": 3,
   "id": "2152e849",
   "metadata": {},
   "outputs": [
    {
     "data": {
      "text/html": [
       "<div>\n",
       "<style scoped>\n",
       "    .dataframe tbody tr th:only-of-type {\n",
       "        vertical-align: middle;\n",
       "    }\n",
       "\n",
       "    .dataframe tbody tr th {\n",
       "        vertical-align: top;\n",
       "    }\n",
       "\n",
       "    .dataframe thead th {\n",
       "        text-align: right;\n",
       "    }\n",
       "</style>\n",
       "<table border=\"1\" class=\"dataframe\">\n",
       "  <thead>\n",
       "    <tr style=\"text-align: right;\">\n",
       "      <th></th>\n",
       "      <th>Company</th>\n",
       "      <th>Age</th>\n",
       "      <th>Salary</th>\n",
       "      <th>Place</th>\n",
       "      <th>Country</th>\n",
       "      <th>Gender</th>\n",
       "    </tr>\n",
       "  </thead>\n",
       "  <tbody>\n",
       "    <tr>\n",
       "      <th>0</th>\n",
       "      <td>TCS</td>\n",
       "      <td>20.0</td>\n",
       "      <td>NaN</td>\n",
       "      <td>Chennai</td>\n",
       "      <td>India</td>\n",
       "      <td>0</td>\n",
       "    </tr>\n",
       "    <tr>\n",
       "      <th>1</th>\n",
       "      <td>Infosys</td>\n",
       "      <td>30.0</td>\n",
       "      <td>NaN</td>\n",
       "      <td>Mumbai</td>\n",
       "      <td>India</td>\n",
       "      <td>0</td>\n",
       "    </tr>\n",
       "    <tr>\n",
       "      <th>2</th>\n",
       "      <td>TCS</td>\n",
       "      <td>35.0</td>\n",
       "      <td>2300.0</td>\n",
       "      <td>Calcutta</td>\n",
       "      <td>India</td>\n",
       "      <td>0</td>\n",
       "    </tr>\n",
       "    <tr>\n",
       "      <th>3</th>\n",
       "      <td>Infosys</td>\n",
       "      <td>40.0</td>\n",
       "      <td>3000.0</td>\n",
       "      <td>Delhi</td>\n",
       "      <td>India</td>\n",
       "      <td>0</td>\n",
       "    </tr>\n",
       "    <tr>\n",
       "      <th>4</th>\n",
       "      <td>TCS</td>\n",
       "      <td>23.0</td>\n",
       "      <td>4000.0</td>\n",
       "      <td>Mumbai</td>\n",
       "      <td>India</td>\n",
       "      <td>0</td>\n",
       "    </tr>\n",
       "    <tr>\n",
       "      <th>...</th>\n",
       "      <td>...</td>\n",
       "      <td>...</td>\n",
       "      <td>...</td>\n",
       "      <td>...</td>\n",
       "      <td>...</td>\n",
       "      <td>...</td>\n",
       "    </tr>\n",
       "    <tr>\n",
       "      <th>143</th>\n",
       "      <td>TCS</td>\n",
       "      <td>33.0</td>\n",
       "      <td>9024.0</td>\n",
       "      <td>Calcutta</td>\n",
       "      <td>India</td>\n",
       "      <td>1</td>\n",
       "    </tr>\n",
       "    <tr>\n",
       "      <th>144</th>\n",
       "      <td>Infosys</td>\n",
       "      <td>22.0</td>\n",
       "      <td>8787.0</td>\n",
       "      <td>Calcutta</td>\n",
       "      <td>India</td>\n",
       "      <td>1</td>\n",
       "    </tr>\n",
       "    <tr>\n",
       "      <th>145</th>\n",
       "      <td>Infosys</td>\n",
       "      <td>44.0</td>\n",
       "      <td>4034.0</td>\n",
       "      <td>Delhi</td>\n",
       "      <td>India</td>\n",
       "      <td>1</td>\n",
       "    </tr>\n",
       "    <tr>\n",
       "      <th>146</th>\n",
       "      <td>TCS</td>\n",
       "      <td>33.0</td>\n",
       "      <td>5034.0</td>\n",
       "      <td>Mumbai</td>\n",
       "      <td>India</td>\n",
       "      <td>1</td>\n",
       "    </tr>\n",
       "    <tr>\n",
       "      <th>147</th>\n",
       "      <td>Infosys</td>\n",
       "      <td>22.0</td>\n",
       "      <td>8202.0</td>\n",
       "      <td>Cochin</td>\n",
       "      <td>India</td>\n",
       "      <td>0</td>\n",
       "    </tr>\n",
       "  </tbody>\n",
       "</table>\n",
       "<p>148 rows × 6 columns</p>\n",
       "</div>"
      ],
      "text/plain": [
       "     Company   Age  Salary     Place Country  Gender\n",
       "0        TCS  20.0     NaN   Chennai   India       0\n",
       "1    Infosys  30.0     NaN    Mumbai   India       0\n",
       "2        TCS  35.0  2300.0  Calcutta   India       0\n",
       "3    Infosys  40.0  3000.0     Delhi   India       0\n",
       "4        TCS  23.0  4000.0    Mumbai   India       0\n",
       "..       ...   ...     ...       ...     ...     ...\n",
       "143      TCS  33.0  9024.0  Calcutta   India       1\n",
       "144  Infosys  22.0  8787.0  Calcutta   India       1\n",
       "145  Infosys  44.0  4034.0     Delhi   India       1\n",
       "146      TCS  33.0  5034.0    Mumbai   India       1\n",
       "147  Infosys  22.0  8202.0    Cochin   India       0\n",
       "\n",
       "[148 rows x 6 columns]"
      ]
     },
     "execution_count": 3,
     "metadata": {},
     "output_type": "execute_result"
    }
   ],
   "source": [
    "data\n"
   ]
  },
  {
   "cell_type": "code",
   "execution_count": 4,
   "id": "a6e51fa4",
   "metadata": {},
   "outputs": [
    {
     "name": "stdout",
     "output_type": "stream",
     "text": [
      "<class 'pandas.core.frame.DataFrame'>\n",
      "RangeIndex: 148 entries, 0 to 147\n",
      "Data columns (total 6 columns):\n",
      " #   Column   Non-Null Count  Dtype  \n",
      "---  ------   --------------  -----  \n",
      " 0   Company  140 non-null    object \n",
      " 1   Age      130 non-null    float64\n",
      " 2   Salary   124 non-null    float64\n",
      " 3   Place    134 non-null    object \n",
      " 4   Country  148 non-null    object \n",
      " 5   Gender   148 non-null    int64  \n",
      "dtypes: float64(2), int64(1), object(3)\n",
      "memory usage: 7.1+ KB\n"
     ]
    }
   ],
   "source": [
    "data.info()"
   ]
  },
  {
   "cell_type": "code",
   "execution_count": 5,
   "id": "c7ffc9f3",
   "metadata": {},
   "outputs": [
    {
     "data": {
      "text/plain": [
       "Company     6\n",
       "Age        29\n",
       "Salary     40\n",
       "Place      11\n",
       "Country     1\n",
       "Gender      2\n",
       "dtype: int64"
      ]
     },
     "execution_count": 5,
     "metadata": {},
     "output_type": "execute_result"
    }
   ],
   "source": [
    "data.nunique()"
   ]
  },
  {
   "cell_type": "code",
   "execution_count": 6,
   "id": "c1d3d0dd",
   "metadata": {},
   "outputs": [
    {
     "data": {
      "text/plain": [
       "Company\n",
       "TCS                          53\n",
       "Infosys                      45\n",
       "CTS                          36\n",
       "Tata Consultancy Services     2\n",
       "Congnizant                    2\n",
       "Infosys Pvt Lmt               2\n",
       "Name: count, dtype: int64"
      ]
     },
     "execution_count": 6,
     "metadata": {},
     "output_type": "execute_result"
    }
   ],
   "source": [
    "data.Company.value_counts()"
   ]
  },
  {
   "cell_type": "code",
   "execution_count": 7,
   "id": "6e643e4b",
   "metadata": {},
   "outputs": [
    {
     "data": {
      "text/plain": [
       "Age\n",
       "22.0    16\n",
       "33.0    13\n",
       "44.0    10\n",
       "23.0     8\n",
       "34.0     8\n",
       "21.0     8\n",
       "32.0     7\n",
       "35.0     6\n",
       "0.0      6\n",
       "41.0     5\n",
       "45.0     4\n",
       "43.0     4\n",
       "24.0     4\n",
       "20.0     3\n",
       "31.0     3\n",
       "25.0     3\n",
       "36.0     3\n",
       "40.0     3\n",
       "26.0     2\n",
       "30.0     2\n",
       "46.0     2\n",
       "50.0     2\n",
       "37.0     2\n",
       "19.0     1\n",
       "38.0     1\n",
       "51.0     1\n",
       "18.0     1\n",
       "17.0     1\n",
       "54.0     1\n",
       "Name: count, dtype: int64"
      ]
     },
     "execution_count": 7,
     "metadata": {},
     "output_type": "execute_result"
    }
   ],
   "source": [
    "data.Age.value_counts()"
   ]
  },
  {
   "cell_type": "code",
   "execution_count": 8,
   "id": "d88a6546",
   "metadata": {},
   "outputs": [
    {
     "data": {
      "text/plain": [
       "Salary\n",
       "3000.0    9\n",
       "5000.0    6\n",
       "8202.0    5\n",
       "5034.0    5\n",
       "4034.0    5\n",
       "2300.0    4\n",
       "5835.0    4\n",
       "8787.0    4\n",
       "9024.0    4\n",
       "2934.0    4\n",
       "9284.0    4\n",
       "8345.0    4\n",
       "8943.0    4\n",
       "7084.0    4\n",
       "2034.0    4\n",
       "4824.0    4\n",
       "3045.0    4\n",
       "3184.0    4\n",
       "1234.0    4\n",
       "1089.0    4\n",
       "9000.0    3\n",
       "6000.0    3\n",
       "7000.0    3\n",
       "8000.0    3\n",
       "3030.0    3\n",
       "4000.0    2\n",
       "7654.0    2\n",
       "9876.0    2\n",
       "3234.0    2\n",
       "5098.0    1\n",
       "5009.0    1\n",
       "5654.0    1\n",
       "3454.0    1\n",
       "4345.0    1\n",
       "5555.0    1\n",
       "5435.0    1\n",
       "4324.0    1\n",
       "6543.0    1\n",
       "6544.0    1\n",
       "3033.0    1\n",
       "Name: count, dtype: int64"
      ]
     },
     "execution_count": 8,
     "metadata": {},
     "output_type": "execute_result"
    }
   ],
   "source": [
    "data.Salary.value_counts()"
   ]
  },
  {
   "cell_type": "code",
   "execution_count": 9,
   "id": "9a396fdb",
   "metadata": {},
   "outputs": [
    {
     "data": {
      "text/plain": [
       "Place\n",
       "Mumbai        37\n",
       "Calcutta      33\n",
       "Chennai       14\n",
       "Delhi         14\n",
       "Cochin        13\n",
       "Noida          8\n",
       "Hyderabad      8\n",
       "Podicherry     3\n",
       "Pune           2\n",
       "Bhopal         1\n",
       "Nagpur         1\n",
       "Name: count, dtype: int64"
      ]
     },
     "execution_count": 9,
     "metadata": {},
     "output_type": "execute_result"
    }
   ],
   "source": [
    "data.Place.value_counts()"
   ]
  },
  {
   "cell_type": "code",
   "execution_count": 10,
   "id": "11d33558",
   "metadata": {},
   "outputs": [
    {
     "data": {
      "text/plain": [
       "Country\n",
       "India    148\n",
       "Name: count, dtype: int64"
      ]
     },
     "execution_count": 10,
     "metadata": {},
     "output_type": "execute_result"
    }
   ],
   "source": [
    "data.Country.value_counts()"
   ]
  },
  {
   "cell_type": "code",
   "execution_count": 11,
   "id": "045f5dfa",
   "metadata": {},
   "outputs": [
    {
     "data": {
      "text/plain": [
       "Gender\n",
       "0    115\n",
       "1     33\n",
       "Name: count, dtype: int64"
      ]
     },
     "execution_count": 11,
     "metadata": {},
     "output_type": "execute_result"
    }
   ],
   "source": [
    "data.Gender.value_counts()"
   ]
  },
  {
   "cell_type": "markdown",
   "id": "da7618c2",
   "metadata": {},
   "source": [
    "### DATA CLEANING"
   ]
  },
  {
   "cell_type": "code",
   "execution_count": 12,
   "id": "b8000038",
   "metadata": {},
   "outputs": [],
   "source": [
    "# Replace the value 0 in age as NaN\n"
   ]
  },
  {
   "cell_type": "code",
   "execution_count": 13,
   "id": "63c04670",
   "metadata": {},
   "outputs": [],
   "source": [
    "data.loc[data['Age'] == 0,'Age'] = np.nan"
   ]
  },
  {
   "cell_type": "code",
   "execution_count": 14,
   "id": "bd3f67eb",
   "metadata": {},
   "outputs": [
    {
     "data": {
      "text/plain": [
       "array([20., 30., 35., 40., 23., nan, 34., 45., 18., 22., 32., 37., 50.,\n",
       "       21., 46., 36., 26., 41., 24., 25., 43., 19., 38., 51., 31., 44.,\n",
       "       33., 17., 54.])"
      ]
     },
     "execution_count": 14,
     "metadata": {},
     "output_type": "execute_result"
    }
   ],
   "source": [
    "data.Age.unique()"
   ]
  },
  {
   "cell_type": "code",
   "execution_count": 15,
   "id": "30398060",
   "metadata": {},
   "outputs": [
    {
     "name": "stdout",
     "output_type": "stream",
     "text": [
      "<class 'pandas.core.frame.DataFrame'>\n",
      "RangeIndex: 148 entries, 0 to 147\n",
      "Data columns (total 6 columns):\n",
      " #   Column   Non-Null Count  Dtype  \n",
      "---  ------   --------------  -----  \n",
      " 0   Company  140 non-null    object \n",
      " 1   Age      148 non-null    float64\n",
      " 2   Salary   124 non-null    float64\n",
      " 3   Place    134 non-null    object \n",
      " 4   Country  148 non-null    object \n",
      " 5   Gender   148 non-null    int64  \n",
      "dtypes: float64(2), int64(1), object(3)\n",
      "memory usage: 7.1+ KB\n"
     ]
    }
   ],
   "source": [
    "data1 = data\n",
    "data1['Age']=data1['Age'].fillna(data1['Age'].mean())\n",
    "data1.info()"
   ]
  },
  {
   "cell_type": "code",
   "execution_count": 16,
   "id": "3c66bdfe",
   "metadata": {},
   "outputs": [
    {
     "name": "stdout",
     "output_type": "stream",
     "text": [
      "<class 'pandas.core.frame.DataFrame'>\n",
      "RangeIndex: 148 entries, 0 to 147\n",
      "Data columns (total 6 columns):\n",
      " #   Column   Non-Null Count  Dtype  \n",
      "---  ------   --------------  -----  \n",
      " 0   Company  140 non-null    object \n",
      " 1   Age      148 non-null    float64\n",
      " 2   Salary   148 non-null    float64\n",
      " 3   Place    134 non-null    object \n",
      " 4   Country  148 non-null    object \n",
      " 5   Gender   148 non-null    int64  \n",
      "dtypes: float64(2), int64(1), object(3)\n",
      "memory usage: 7.1+ KB\n"
     ]
    }
   ],
   "source": [
    "data1['Salary']=data1['Salary'].fillna(data1['Salary'].mean())\n",
    "data1.info()"
   ]
  },
  {
   "cell_type": "code",
   "execution_count": 17,
   "id": "a238c7c3",
   "metadata": {},
   "outputs": [],
   "source": [
    "import random\n",
    "modes = list(data1['Place'].mode())\n",
    "mode_to_fill = random.choice(modes)\n",
    "data1['Place'].fillna(mode_to_fill, inplace=True)"
   ]
  },
  {
   "cell_type": "code",
   "execution_count": 18,
   "id": "89fc0b0a",
   "metadata": {},
   "outputs": [],
   "source": [
    "modes1 = list(data1['Company'].mode())\n",
    "mode_to_fill1 = random.choice(modes1)\n",
    "data1['Company'].fillna(mode_to_fill1, inplace=True)"
   ]
  },
  {
   "cell_type": "code",
   "execution_count": 19,
   "id": "f89eaea0",
   "metadata": {},
   "outputs": [
    {
     "name": "stdout",
     "output_type": "stream",
     "text": [
      "<class 'pandas.core.frame.DataFrame'>\n",
      "RangeIndex: 148 entries, 0 to 147\n",
      "Data columns (total 6 columns):\n",
      " #   Column   Non-Null Count  Dtype  \n",
      "---  ------   --------------  -----  \n",
      " 0   Company  148 non-null    object \n",
      " 1   Age      148 non-null    float64\n",
      " 2   Salary   148 non-null    float64\n",
      " 3   Place    148 non-null    object \n",
      " 4   Country  148 non-null    object \n",
      " 5   Gender   148 non-null    int64  \n",
      "dtypes: float64(2), int64(1), object(3)\n",
      "memory usage: 7.1+ KB\n"
     ]
    }
   ],
   "source": [
    "data1.info()"
   ]
  },
  {
   "cell_type": "markdown",
   "id": "dff0a00b",
   "metadata": {},
   "source": [
    "## DATA ANALYSIS"
   ]
  },
  {
   "cell_type": "code",
   "execution_count": 20,
   "id": "8a384140",
   "metadata": {},
   "outputs": [],
   "source": [
    "## ● Filter the data with age >40 and salary<5000\n",
    "\n",
    "## ● Count the number of people from each place and represent it visually\n"
   ]
  },
  {
   "cell_type": "code",
   "execution_count": 21,
   "id": "e0ffb503",
   "metadata": {},
   "outputs": [
    {
     "name": "stdout",
     "output_type": "stream",
     "text": [
      "(array([ 21,  32,  39,  50,  57,  68,  75,  86,  93, 104, 122, 129, 138,\n",
      "       140, 145], dtype=int64),)\n"
     ]
    },
    {
     "data": {
      "text/html": [
       "<div>\n",
       "<style scoped>\n",
       "    .dataframe tbody tr th:only-of-type {\n",
       "        vertical-align: middle;\n",
       "    }\n",
       "\n",
       "    .dataframe tbody tr th {\n",
       "        vertical-align: top;\n",
       "    }\n",
       "\n",
       "    .dataframe thead th {\n",
       "        text-align: right;\n",
       "    }\n",
       "</style>\n",
       "<table border=\"1\" class=\"dataframe\">\n",
       "  <thead>\n",
       "    <tr style=\"text-align: right;\">\n",
       "      <th></th>\n",
       "      <th>Company</th>\n",
       "      <th>Age</th>\n",
       "      <th>Salary</th>\n",
       "      <th>Place</th>\n",
       "      <th>Country</th>\n",
       "      <th>Gender</th>\n",
       "    </tr>\n",
       "  </thead>\n",
       "  <tbody>\n",
       "    <tr>\n",
       "      <th>21</th>\n",
       "      <td>Infosys</td>\n",
       "      <td>50.0</td>\n",
       "      <td>3184.0</td>\n",
       "      <td>Delhi</td>\n",
       "      <td>India</td>\n",
       "      <td>0</td>\n",
       "    </tr>\n",
       "    <tr>\n",
       "      <th>32</th>\n",
       "      <td>Infosys</td>\n",
       "      <td>45.0</td>\n",
       "      <td>4034.0</td>\n",
       "      <td>Calcutta</td>\n",
       "      <td>India</td>\n",
       "      <td>0</td>\n",
       "    </tr>\n",
       "    <tr>\n",
       "      <th>39</th>\n",
       "      <td>Infosys</td>\n",
       "      <td>41.0</td>\n",
       "      <td>3000.0</td>\n",
       "      <td>Mumbai</td>\n",
       "      <td>India</td>\n",
       "      <td>0</td>\n",
       "    </tr>\n",
       "    <tr>\n",
       "      <th>50</th>\n",
       "      <td>Infosys</td>\n",
       "      <td>41.0</td>\n",
       "      <td>3000.0</td>\n",
       "      <td>Chennai</td>\n",
       "      <td>India</td>\n",
       "      <td>0</td>\n",
       "    </tr>\n",
       "    <tr>\n",
       "      <th>57</th>\n",
       "      <td>Infosys</td>\n",
       "      <td>51.0</td>\n",
       "      <td>3184.0</td>\n",
       "      <td>Hyderabad</td>\n",
       "      <td>India</td>\n",
       "      <td>0</td>\n",
       "    </tr>\n",
       "    <tr>\n",
       "      <th>68</th>\n",
       "      <td>Infosys</td>\n",
       "      <td>43.0</td>\n",
       "      <td>4034.0</td>\n",
       "      <td>Mumbai</td>\n",
       "      <td>India</td>\n",
       "      <td>0</td>\n",
       "    </tr>\n",
       "    <tr>\n",
       "      <th>75</th>\n",
       "      <td>Infosys</td>\n",
       "      <td>44.0</td>\n",
       "      <td>3000.0</td>\n",
       "      <td>Cochin</td>\n",
       "      <td>India</td>\n",
       "      <td>0</td>\n",
       "    </tr>\n",
       "    <tr>\n",
       "      <th>86</th>\n",
       "      <td>Infosys</td>\n",
       "      <td>41.0</td>\n",
       "      <td>3000.0</td>\n",
       "      <td>Delhi</td>\n",
       "      <td>India</td>\n",
       "      <td>0</td>\n",
       "    </tr>\n",
       "    <tr>\n",
       "      <th>93</th>\n",
       "      <td>Infosys</td>\n",
       "      <td>54.0</td>\n",
       "      <td>3184.0</td>\n",
       "      <td>Mumbai</td>\n",
       "      <td>India</td>\n",
       "      <td>0</td>\n",
       "    </tr>\n",
       "    <tr>\n",
       "      <th>104</th>\n",
       "      <td>Infosys</td>\n",
       "      <td>44.0</td>\n",
       "      <td>4034.0</td>\n",
       "      <td>Delhi</td>\n",
       "      <td>India</td>\n",
       "      <td>0</td>\n",
       "    </tr>\n",
       "    <tr>\n",
       "      <th>122</th>\n",
       "      <td>Infosys</td>\n",
       "      <td>44.0</td>\n",
       "      <td>3234.0</td>\n",
       "      <td>Mumbai</td>\n",
       "      <td>India</td>\n",
       "      <td>0</td>\n",
       "    </tr>\n",
       "    <tr>\n",
       "      <th>129</th>\n",
       "      <td>Infosys</td>\n",
       "      <td>50.0</td>\n",
       "      <td>3184.0</td>\n",
       "      <td>Calcutta</td>\n",
       "      <td>India</td>\n",
       "      <td>0</td>\n",
       "    </tr>\n",
       "    <tr>\n",
       "      <th>138</th>\n",
       "      <td>CTS</td>\n",
       "      <td>44.0</td>\n",
       "      <td>3033.0</td>\n",
       "      <td>Cochin</td>\n",
       "      <td>India</td>\n",
       "      <td>0</td>\n",
       "    </tr>\n",
       "    <tr>\n",
       "      <th>140</th>\n",
       "      <td>Infosys</td>\n",
       "      <td>44.0</td>\n",
       "      <td>4034.0</td>\n",
       "      <td>Hyderabad</td>\n",
       "      <td>India</td>\n",
       "      <td>0</td>\n",
       "    </tr>\n",
       "    <tr>\n",
       "      <th>145</th>\n",
       "      <td>Infosys</td>\n",
       "      <td>44.0</td>\n",
       "      <td>4034.0</td>\n",
       "      <td>Delhi</td>\n",
       "      <td>India</td>\n",
       "      <td>1</td>\n",
       "    </tr>\n",
       "  </tbody>\n",
       "</table>\n",
       "</div>"
      ],
      "text/plain": [
       "     Company   Age  Salary      Place Country  Gender\n",
       "21   Infosys  50.0  3184.0      Delhi   India       0\n",
       "32   Infosys  45.0  4034.0   Calcutta   India       0\n",
       "39   Infosys  41.0  3000.0     Mumbai   India       0\n",
       "50   Infosys  41.0  3000.0    Chennai   India       0\n",
       "57   Infosys  51.0  3184.0  Hyderabad   India       0\n",
       "68   Infosys  43.0  4034.0     Mumbai   India       0\n",
       "75   Infosys  44.0  3000.0     Cochin   India       0\n",
       "86   Infosys  41.0  3000.0      Delhi   India       0\n",
       "93   Infosys  54.0  3184.0     Mumbai   India       0\n",
       "104  Infosys  44.0  4034.0      Delhi   India       0\n",
       "122  Infosys  44.0  3234.0     Mumbai   India       0\n",
       "129  Infosys  50.0  3184.0   Calcutta   India       0\n",
       "138      CTS  44.0  3033.0     Cochin   India       0\n",
       "140  Infosys  44.0  4034.0  Hyderabad   India       0\n",
       "145  Infosys  44.0  4034.0      Delhi   India       1"
      ]
     },
     "metadata": {},
     "output_type": "display_data"
    }
   ],
   "source": [
    "filter_Age_salary = np.where((data1['Age']>40) & (data1['Salary']< 5000))\n",
    "print(filter_Age_salary)\n",
    "display(data1.loc[filter_Age_salary])"
   ]
  },
  {
   "cell_type": "code",
   "execution_count": 22,
   "id": "36282931",
   "metadata": {},
   "outputs": [],
   "source": [
    "##  Plot the chart with age and salary"
   ]
  },
  {
   "cell_type": "code",
   "execution_count": 23,
   "id": "b1895229",
   "metadata": {},
   "outputs": [
    {
     "data": {
      "image/png": "[encoded data removed]",
      "text/plain": [
       "<Figure size 640x480 with 1 Axes>"
      ]
     },
     "metadata": {},
     "output_type": "display_data"
    }
   ],
   "source": [
    "plt.scatter(data1['Age'], data1['Salary'])\n",
    "plt.show()"
   ]
  },
  {
   "cell_type": "code",
   "execution_count": 24,
   "id": "eff40b54",
   "metadata": {},
   "outputs": [],
   "source": [
    "## Count the number of people from each place and represent it visually"
   ]
  },
  {
   "cell_type": "code",
   "execution_count": 25,
   "id": "41d7e135",
   "metadata": {},
   "outputs": [
    {
     "data": {
      "text/plain": [
       "Place\n",
       "Mumbai        51\n",
       "Calcutta      33\n",
       "Chennai       14\n",
       "Delhi         14\n",
       "Cochin        13\n",
       "Noida          8\n",
       "Hyderabad      8\n",
       "Podicherry     3\n",
       "Pune           2\n",
       "Bhopal         1\n",
       "Nagpur         1\n",
       "Name: count, dtype: int64"
      ]
     },
     "execution_count": 25,
     "metadata": {},
     "output_type": "execute_result"
    }
   ],
   "source": [
    "data.Place.value_counts()"
   ]
  },
  {
   "cell_type": "code",
   "execution_count": 26,
   "id": "f0987cdb",
   "metadata": {},
   "outputs": [
    {
     "data": {
      "text/plain": [
       "<Axes: xlabel='Place'>"
      ]
     },
     "execution_count": 26,
     "metadata": {},
     "output_type": "execute_result"
    },
    {
     "data": {
      "image/png": "[encoded data removed]",
      "text/plain": [
       "<Figure size 640x480 with 1 Axes>"
      ]
     },
     "metadata": {},
     "output_type": "display_data"
    }
   ],
   "source": [
    "data1['Place'].value_counts().plot()"
   ]
  },
  {
   "cell_type": "code",
   "execution_count": 27,
   "id": "2620a9c3",
   "metadata": {},
   "outputs": [],
   "source": [
    "###Data Encoding:\n",
    "#Converting categorical variables into numerical representations using techniques such as\n",
    "#one-hot encoding, label encoding, making them suitable for analysis by machine\n",
    "#learning algorithms.\n"
   ]
  },
  {
   "cell_type": "code",
   "execution_count": 28,
   "id": "7465dbd4",
   "metadata": {},
   "outputs": [
    {
     "name": "stdout",
     "output_type": "stream",
     "text": [
      "      Age       Salary Country  Gender  Company_CTS  Company_Congnizant  \\\n",
      "0    20.0  5312.467742   India       0        False               False   \n",
      "1    30.0  5312.467742   India       0        False               False   \n",
      "2    35.0  2300.000000   India       0        False               False   \n",
      "3    40.0  3000.000000   India       0        False               False   \n",
      "4    23.0  4000.000000   India       0        False               False   \n",
      "..    ...          ...     ...     ...          ...                 ...   \n",
      "143  33.0  9024.000000   India       1        False               False   \n",
      "144  22.0  8787.000000   India       1        False               False   \n",
      "145  44.0  4034.000000   India       1        False               False   \n",
      "146  33.0  5034.000000   India       1        False               False   \n",
      "147  22.0  8202.000000   India       0        False               False   \n",
      "\n",
      "     Company_Infosys  Company_Infosys Pvt Lmt  Company_TCS  \\\n",
      "0              False                    False         True   \n",
      "1               True                    False        False   \n",
      "2              False                    False         True   \n",
      "3               True                    False        False   \n",
      "4              False                    False         True   \n",
      "..               ...                      ...          ...   \n",
      "143            False                    False         True   \n",
      "144             True                    False        False   \n",
      "145             True                    False        False   \n",
      "146            False                    False         True   \n",
      "147             True                    False        False   \n",
      "\n",
      "     Company_Tata Consultancy Services  ...  Place_Calcutta  Place_Chennai  \\\n",
      "0                                False  ...           False           True   \n",
      "1                                False  ...           False          False   \n",
      "2                                False  ...            True          False   \n",
      "3                                False  ...           False          False   \n",
      "4                                False  ...           False          False   \n",
      "..                                 ...  ...             ...            ...   \n",
      "143                              False  ...            True          False   \n",
      "144                              False  ...            True          False   \n",
      "145                              False  ...           False          False   \n",
      "146                              False  ...           False          False   \n",
      "147                              False  ...           False          False   \n",
      "\n",
      "     Place_Cochin  Place_Delhi  Place_Hyderabad  Place_Mumbai  Place_Nagpur  \\\n",
      "0           False        False            False         False         False   \n",
      "1           False        False            False          True         False   \n",
      "2           False        False            False         False         False   \n",
      "3           False         True            False         False         False   \n",
      "4           False        False            False          True         False   \n",
      "..            ...          ...              ...           ...           ...   \n",
      "143         False        False            False         False         False   \n",
      "144         False        False            False         False         False   \n",
      "145         False         True            False         False         False   \n",
      "146         False        False            False          True         False   \n",
      "147          True        False            False         False         False   \n",
      "\n",
      "     Place_Noida  Place_Podicherry  Place_Pune  \n",
      "0          False             False       False  \n",
      "1          False             False       False  \n",
      "2          False             False       False  \n",
      "3          False             False       False  \n",
      "4          False             False       False  \n",
      "..           ...               ...         ...  \n",
      "143        False             False       False  \n",
      "144        False             False       False  \n",
      "145        False             False       False  \n",
      "146        False             False       False  \n",
      "147        False             False       False  \n",
      "\n",
      "[148 rows x 21 columns]\n"
     ]
    }
   ],
   "source": [
    "df_one_hot_encoded = pd.get_dummies(data = data1, columns = [\"Company\", \"Place\"])\n",
    "\n",
    "print(df_one_hot_encoded )"
   ]
  },
  {
   "cell_type": "code",
   "execution_count": 29,
   "id": "64f1eb3e",
   "metadata": {},
   "outputs": [
    {
     "name": "stdout",
     "output_type": "stream",
     "text": [
      "Requirement already satisfied: Scikit-learn in c:\\users\\anush\\appdata\\local\\programs\\python\\python311\\lib\\site-packages (1.3.1)\n",
      "Requirement already satisfied: numpy<2.0,>=1.17.3 in c:\\users\\anush\\appdata\\local\\programs\\python\\python311\\lib\\site-packages (from Scikit-learn) (1.25.1)\n",
      "Requirement already satisfied: scipy>=1.5.0 in c:\\users\\anush\\appdata\\local\\programs\\python\\python311\\lib\\site-packages (from Scikit-learn) (1.11.3)\n",
      "Requirement already satisfied: joblib>=1.1.1 in c:\\users\\anush\\appdata\\local\\programs\\python\\python311\\lib\\site-packages (from Scikit-learn) (1.3.2)\n",
      "Requirement already satisfied: threadpoolctl>=2.0.0 in c:\\users\\anush\\appdata\\local\\programs\\python\\python311\\lib\\site-packages (from Scikit-learn) (3.2.0)\n",
      "Note: you may need to restart the kernel to use updated packages.\n"
     ]
    },
    {
     "name": "stderr",
     "output_type": "stream",
     "text": [
      "\n",
      "[notice] A new release of pip available: 22.3.1 -> 23.3\n",
      "[notice] To update, run: python.exe -m pip install --upgrade pip\n"
     ]
    }
   ],
   "source": [
    "pip install Scikit-learn"
   ]
  },
  {
   "cell_type": "code",
   "execution_count": 30,
   "id": "480a515a",
   "metadata": {},
   "outputs": [
    {
     "name": "stdout",
     "output_type": "stream",
     "text": [
      "['is_TCS', 'is_Infosys', 'is_CTS', 'is_Tata Consultancy Services', 'is_Congnizant', 'is_Infosys Pvt Lmt', 'is_Chennai', 'is_Mumbai', 'is_Calcutta', 'is_Delhi', 'is_Podicherry', 'is_Cochin', 'is_Noida', 'is_Hyderabad', 'is_Bhopal', 'is_Nagpur', 'is_Pune']\n",
      "     Company   Age       Salary     Place Country  Gender  is_TCS  is_Infosys  \\\n",
      "0        TCS  20.0  5312.467742   Chennai   India       0     0.0         0.0   \n",
      "1    Infosys  30.0  5312.467742    Mumbai   India       0     0.0         0.0   \n",
      "2        TCS  35.0  2300.000000  Calcutta   India       0     0.0         0.0   \n",
      "3    Infosys  40.0  3000.000000     Delhi   India       0     0.0         0.0   \n",
      "4        TCS  23.0  4000.000000    Mumbai   India       0     0.0         0.0   \n",
      "..       ...   ...          ...       ...     ...     ...     ...         ...   \n",
      "143      TCS  33.0  9024.000000  Calcutta   India       1     0.0         0.0   \n",
      "144  Infosys  22.0  8787.000000  Calcutta   India       1     0.0         0.0   \n",
      "145  Infosys  44.0  4034.000000     Delhi   India       1     0.0         0.0   \n",
      "146      TCS  33.0  5034.000000    Mumbai   India       1     0.0         0.0   \n",
      "147  Infosys  22.0  8202.000000    Cochin   India       0     0.0         0.0   \n",
      "\n",
      "     is_CTS  is_Tata Consultancy Services  ...  is_Mumbai  is_Calcutta  \\\n",
      "0       0.0                           0.0  ...        0.0          1.0   \n",
      "1       1.0                           0.0  ...        0.0          0.0   \n",
      "2       0.0                           0.0  ...        1.0          0.0   \n",
      "3       1.0                           0.0  ...        0.0          0.0   \n",
      "4       0.0                           0.0  ...        0.0          0.0   \n",
      "..      ...                           ...  ...        ...          ...   \n",
      "143     0.0                           0.0  ...        1.0          0.0   \n",
      "144     1.0                           0.0  ...        1.0          0.0   \n",
      "145     1.0                           0.0  ...        0.0          0.0   \n",
      "146     0.0                           0.0  ...        0.0          0.0   \n",
      "147     1.0                           0.0  ...        0.0          0.0   \n",
      "\n",
      "     is_Delhi  is_Podicherry  is_Cochin  is_Noida  is_Hyderabad  is_Bhopal  \\\n",
      "0         0.0            0.0        0.0       0.0           0.0        0.0   \n",
      "1         0.0            0.0        0.0       1.0           0.0        0.0   \n",
      "2         0.0            0.0        0.0       0.0           0.0        0.0   \n",
      "3         0.0            1.0        0.0       0.0           0.0        0.0   \n",
      "4         0.0            0.0        0.0       1.0           0.0        0.0   \n",
      "..        ...            ...        ...       ...           ...        ...   \n",
      "143       0.0            0.0        0.0       0.0           0.0        0.0   \n",
      "144       0.0            0.0        0.0       0.0           0.0        0.0   \n",
      "145       0.0            1.0        0.0       0.0           0.0        0.0   \n",
      "146       0.0            0.0        0.0       1.0           0.0        0.0   \n",
      "147       1.0            0.0        0.0       0.0           0.0        0.0   \n",
      "\n",
      "     is_Nagpur  is_Pune  \n",
      "0          0.0      0.0  \n",
      "1          0.0      0.0  \n",
      "2          0.0      0.0  \n",
      "3          0.0      0.0  \n",
      "4          0.0      0.0  \n",
      "..         ...      ...  \n",
      "143        0.0      0.0  \n",
      "144        0.0      0.0  \n",
      "145        0.0      0.0  \n",
      "146        0.0      0.0  \n",
      "147        0.0      0.0  \n",
      "\n",
      "[148 rows x 23 columns]\n"
     ]
    },
    {
     "name": "stderr",
     "output_type": "stream",
     "text": [
      "C:\\Users\\anush\\AppData\\Local\\Programs\\Python\\Python311\\Lib\\site-packages\\sklearn\\preprocessing\\_encoders.py:975: FutureWarning: `sparse` was renamed to `sparse_output` in version 1.2 and will be removed in 1.4. `sparse_output` is ignored unless you leave `sparse` to its default value.\n",
      "  warnings.warn(\n"
     ]
    }
   ],
   "source": [
    "import pandas as pd\n",
    "from sklearn.preprocessing import OneHotEncoder\n",
    "\n",
    "cols_to_encode = [\"Company\", \"Place\"]\n",
    "new_encoded_cols_names = []\n",
    "\n",
    "# Create a list of new columns names\n",
    "for col in cols_to_encode:\n",
    "    new_encoded_cols_names += [f\"is_{category}\" for category in data1[col].unique().tolist()]\n",
    "\n",
    "print(new_encoded_cols_names)\n",
    "\n",
    "\n",
    "# Inititalize and fit One Hot Encoder class from sklearn\n",
    "one_hot_encoder = OneHotEncoder(sparse = False, handle_unknown = 'ignore')\n",
    "encoded_cols = one_hot_encoder.fit_transform(data1[cols_to_encode])\n",
    "\n",
    "# As the output of the above transformer would be a sparse matrix, we need to convert it back to Pandas dataframe\n",
    "df_encoded = pd.DataFrame(encoded_cols, columns = new_encoded_cols_names)\n",
    "df_one_hot_encoded = data1.join(df_encoded)\n",
    "\n",
    "print(df_one_hot_encoded)"
   ]
  },
  {
   "cell_type": "markdown",
   "id": "3cac63ab",
   "metadata": {},
   "source": [
    "### LABEL ENCODER"
   ]
  },
  {
   "cell_type": "code",
   "execution_count": 37,
   "id": "5a32925e",
   "metadata": {},
   "outputs": [],
   "source": [
    "from sklearn.preprocessing import LabelEncoder\n",
    "label_encoder = LabelEncoder()\n",
    "for i in data1:\n",
    "    data1[i] = label_encoder.fit_transform(data1[i])"
   ]
  },
  {
   "cell_type": "code",
   "execution_count": 39,
   "id": "4a09ea08",
   "metadata": {},
   "outputs": [
    {
     "data": {
      "text/plain": [
       "Company\n",
       "4    61\n",
       "2    45\n",
       "0    36\n",
       "5     2\n",
       "1     2\n",
       "3     2\n",
       "Name: count, dtype: int64"
      ]
     },
     "execution_count": 39,
     "metadata": {},
     "output_type": "execute_result"
    }
   ],
   "source": [
    "data1.Company.value_counts()"
   ]
  },
  {
   "cell_type": "code",
   "execution_count": 40,
   "id": "7323339d",
   "metadata": {},
   "outputs": [
    {
     "data": {
      "text/html": [
       "<div>\n",
       "<style scoped>\n",
       "    .dataframe tbody tr th:only-of-type {\n",
       "        vertical-align: middle;\n",
       "    }\n",
       "\n",
       "    .dataframe tbody tr th {\n",
       "        vertical-align: top;\n",
       "    }\n",
       "\n",
       "    .dataframe thead th {\n",
       "        text-align: right;\n",
       "    }\n",
       "</style>\n",
       "<table border=\"1\" class=\"dataframe\">\n",
       "  <thead>\n",
       "    <tr style=\"text-align: right;\">\n",
       "      <th></th>\n",
       "      <th>Company</th>\n",
       "      <th>Age</th>\n",
       "      <th>Salary</th>\n",
       "      <th>Place</th>\n",
       "      <th>Country</th>\n",
       "      <th>Gender</th>\n",
       "    </tr>\n",
       "  </thead>\n",
       "  <tbody>\n",
       "    <tr>\n",
       "      <th>0</th>\n",
       "      <td>4</td>\n",
       "      <td>3</td>\n",
       "      <td>21</td>\n",
       "      <td>2</td>\n",
       "      <td>0</td>\n",
       "      <td>0</td>\n",
       "    </tr>\n",
       "    <tr>\n",
       "      <th>1</th>\n",
       "      <td>2</td>\n",
       "      <td>10</td>\n",
       "      <td>21</td>\n",
       "      <td>6</td>\n",
       "      <td>0</td>\n",
       "      <td>0</td>\n",
       "    </tr>\n",
       "    <tr>\n",
       "      <th>2</th>\n",
       "      <td>4</td>\n",
       "      <td>16</td>\n",
       "      <td>3</td>\n",
       "      <td>1</td>\n",
       "      <td>0</td>\n",
       "      <td>0</td>\n",
       "    </tr>\n",
       "    <tr>\n",
       "      <th>3</th>\n",
       "      <td>2</td>\n",
       "      <td>20</td>\n",
       "      <td>5</td>\n",
       "      <td>4</td>\n",
       "      <td>0</td>\n",
       "      <td>0</td>\n",
       "    </tr>\n",
       "    <tr>\n",
       "      <th>4</th>\n",
       "      <td>4</td>\n",
       "      <td>6</td>\n",
       "      <td>12</td>\n",
       "      <td>6</td>\n",
       "      <td>0</td>\n",
       "      <td>0</td>\n",
       "    </tr>\n",
       "    <tr>\n",
       "      <th>...</th>\n",
       "      <td>...</td>\n",
       "      <td>...</td>\n",
       "      <td>...</td>\n",
       "      <td>...</td>\n",
       "      <td>...</td>\n",
       "      <td>...</td>\n",
       "    </tr>\n",
       "    <tr>\n",
       "      <th>143</th>\n",
       "      <td>4</td>\n",
       "      <td>14</td>\n",
       "      <td>38</td>\n",
       "      <td>1</td>\n",
       "      <td>0</td>\n",
       "      <td>1</td>\n",
       "    </tr>\n",
       "    <tr>\n",
       "      <th>144</th>\n",
       "      <td>2</td>\n",
       "      <td>5</td>\n",
       "      <td>35</td>\n",
       "      <td>1</td>\n",
       "      <td>0</td>\n",
       "      <td>1</td>\n",
       "    </tr>\n",
       "    <tr>\n",
       "      <th>145</th>\n",
       "      <td>2</td>\n",
       "      <td>23</td>\n",
       "      <td>13</td>\n",
       "      <td>4</td>\n",
       "      <td>0</td>\n",
       "      <td>1</td>\n",
       "    </tr>\n",
       "    <tr>\n",
       "      <th>146</th>\n",
       "      <td>4</td>\n",
       "      <td>14</td>\n",
       "      <td>19</td>\n",
       "      <td>6</td>\n",
       "      <td>0</td>\n",
       "      <td>1</td>\n",
       "    </tr>\n",
       "    <tr>\n",
       "      <th>147</th>\n",
       "      <td>2</td>\n",
       "      <td>5</td>\n",
       "      <td>33</td>\n",
       "      <td>3</td>\n",
       "      <td>0</td>\n",
       "      <td>0</td>\n",
       "    </tr>\n",
       "  </tbody>\n",
       "</table>\n",
       "<p>148 rows × 6 columns</p>\n",
       "</div>"
      ],
      "text/plain": [
       "     Company  Age  Salary  Place  Country  Gender\n",
       "0          4    3      21      2        0       0\n",
       "1          2   10      21      6        0       0\n",
       "2          4   16       3      1        0       0\n",
       "3          2   20       5      4        0       0\n",
       "4          4    6      12      6        0       0\n",
       "..       ...  ...     ...    ...      ...     ...\n",
       "143        4   14      38      1        0       1\n",
       "144        2    5      35      1        0       1\n",
       "145        2   23      13      4        0       1\n",
       "146        4   14      19      6        0       1\n",
       "147        2    5      33      3        0       0\n",
       "\n",
       "[148 rows x 6 columns]"
      ]
     },
     "execution_count": 40,
     "metadata": {},
     "output_type": "execute_result"
    }
   ],
   "source": [
    "data1"
   ]
  },
  {
   "cell_type": "markdown",
   "id": "2f509a31",
   "metadata": {},
   "source": [
    "### FEATURE SCALING"
   ]
  },
  {
   "cell_type": "code",
   "execution_count": 41,
   "id": "0579ddcd",
   "metadata": {},
   "outputs": [
    {
     "name": "stdout",
     "output_type": "stream",
     "text": [
      "[[-1.48093712  0.12933898]\n",
      " [-0.43722906  0.12933898]\n",
      " [ 0.45737786 -1.38854223]\n",
      " [ 1.05378247 -1.21988876]\n",
      " [-1.03363366 -0.62960163]\n",
      " [-0.13902675 -0.20796796]\n",
      " [-0.13902675  0.55097264]\n",
      " [-1.03363366  0.80395284]\n",
      " [ 0.30827671  1.05693305]\n",
      " [ 1.65018708  1.47856671]\n",
      " [-1.03363366  0.12933898]\n",
      " [ 0.30827671 -1.64152243]\n",
      " [ 1.65018708  0.12933898]\n",
      " [-1.77913943 -1.55719569]\n",
      " [ 1.05378247 -1.21988876]\n",
      " [-1.03363366 -1.21988876]\n",
      " [-1.03363366 -1.13556203]\n",
      " [ 0.30827671 -0.20796796]\n",
      " [-1.18273482  0.12933898]\n",
      " [ 0.0100744   0.12933898]\n",
      " [ 0.75558016 -0.96690856]\n",
      " [ 1.94838938 -0.88258183]\n",
      " [-1.33183597 -0.29229469]\n",
      " [-0.13902675  0.46664591]\n",
      " [-0.13902675  0.88827958]\n",
      " [-1.03363366  1.39423998]\n",
      " [ 0.30827671  1.22558651]\n",
      " [ 1.65018708  1.64722018]\n",
      " [-1.03363366  1.73154691]\n",
      " [ 0.45737786 -1.47286896]\n",
      " [ 1.79928823  0.97260631]\n",
      " [-1.48093712 -1.30421549]\n",
      " [ 1.65018708 -0.54527489]\n",
      " [ 0.60647901 -0.03931449]\n",
      " [-0.58633021  1.14125978]\n",
      " [ 0.45737786  1.56289345]\n",
      " [ 0.0100744   0.12933898]\n",
      " [ 0.45737786  0.12933898]\n",
      " [ 0.30827671 -1.38854223]\n",
      " [ 1.20288362 -1.21988876]\n",
      " [-0.88453251 -0.37662142]\n",
      " [-0.13902675 -0.20796796]\n",
      " [-0.13902675  0.55097264]\n",
      " [-0.73543136  0.80395284]\n",
      " [ 0.45737786  1.05693305]\n",
      " [ 1.79928823  1.47856671]\n",
      " [-0.88453251  0.12933898]\n",
      " [ 0.0100744  -1.64152243]\n",
      " [ 1.35198477  0.12933898]\n",
      " [-1.63003827 -1.55719569]\n",
      " [ 1.20288362 -1.21988876]\n",
      " [-0.88453251 -1.21988876]\n",
      " [-1.33183597 -1.13556203]\n",
      " [ 0.45737786 -0.20796796]\n",
      " [-1.33183597  0.71962611]\n",
      " [ 0.0100744   0.97260631]\n",
      " [ 0.90468132 -0.96690856]\n",
      " [ 2.09749054 -0.88258183]\n",
      " [-1.03363366 -0.29229469]\n",
      " [-0.13902675  0.46664591]\n",
      " [-0.13902675  0.88827958]\n",
      " [-0.73543136  1.39423998]\n",
      " [ 0.60647901  1.22558651]\n",
      " [ 1.20288362  1.64722018]\n",
      " [-0.73543136  0.63529938]\n",
      " [-0.2881279  -1.47286896]\n",
      " [ 1.20288362  0.12933898]\n",
      " [-1.33183597 -1.30421549]\n",
      " [ 1.35198477 -0.54527489]\n",
      " [ 0.0100744  -0.03931449]\n",
      " [-1.33183597  1.14125978]\n",
      " [ 0.30827671  1.56289345]\n",
      " [-0.88453251  0.12933898]\n",
      " [ 0.30827671  0.12933898]\n",
      " [ 0.75558016 -1.38854223]\n",
      " [ 1.50108593 -1.21988876]\n",
      " [ 0.0100744  -0.62960163]\n",
      " [-0.13902675 -0.20796796]\n",
      " [-0.13902675  0.55097264]\n",
      " [-0.58633021  0.80395284]\n",
      " [ 0.0100744   1.05693305]\n",
      " [ 1.35198477  1.47856671]\n",
      " [-1.18273482  0.12933898]\n",
      " [ 0.15917555 -1.64152243]\n",
      " [ 1.35198477  0.12933898]\n",
      " [-1.92824058 -1.55719569]\n",
      " [ 1.20288362 -1.21988876]\n",
      " [-1.33183597 -1.21988876]\n",
      " [-0.13902675 -1.13556203]\n",
      " [ 0.60647901 -0.20796796]\n",
      " [-1.33183597  0.12933898]\n",
      " [ 0.30827671  0.12933898]\n",
      " [-0.13902675 -0.96690856]\n",
      " [ 2.24659169 -0.88258183]\n",
      " [-1.18273482 -0.29229469]\n",
      " [-0.13902675  0.46664591]\n",
      " [-0.13902675  0.88827958]\n",
      " [-1.18273482  1.39423998]\n",
      " [ 0.15917555  1.22558651]\n",
      " [ 1.50108593  1.64722018]\n",
      " [-1.18273482  0.12933898]\n",
      " [-0.13902675 -1.47286896]\n",
      " [ 1.50108593  0.12933898]\n",
      " [-1.18273482 -1.30421549]\n",
      " [ 1.50108593 -0.54527489]\n",
      " [ 0.15917555 -0.03931449]\n",
      " [-1.18273482  1.14125978]\n",
      " [-0.13902675  1.56289345]\n",
      " [ 0.15917555  0.12933898]\n",
      " [ 0.15917555  0.12933898]\n",
      " [ 0.15917555 -1.38854223]\n",
      " [-0.13902675 -0.79825509]\n",
      " [-1.18273482 -0.46094816]\n",
      " [-0.13902675  0.21366571]\n",
      " [-0.13902675  0.29799244]\n",
      " [-1.18273482  1.30991325]\n",
      " [ 0.15917555  1.30991325]\n",
      " [ 1.50108593  1.73154691]\n",
      " [-1.18273482  0.12933898]\n",
      " [ 0.15917555 -1.64152243]\n",
      " [ 1.50108593  0.12933898]\n",
      " [-0.13902675 -1.55719569]\n",
      " [ 1.50108593 -0.79825509]\n",
      " [-0.13902675 -0.71392836]\n",
      " [-1.18273482  1.30991325]\n",
      " [ 0.15917555  0.38231918]\n",
      " [-1.48093712 -0.12364122]\n",
      " [-0.43722906  0.04501224]\n",
      " [ 0.15917555 -0.96690856]\n",
      " [ 1.94838938 -0.88258183]\n",
      " [-1.33183597 -0.29229469]\n",
      " [-0.13902675  0.46664591]\n",
      " [-0.13902675  0.88827958]\n",
      " [-1.18273482  1.39423998]\n",
      " [-0.2881279   1.22558651]\n",
      " [ 1.05378247  1.64722018]\n",
      " [-0.13902675  0.12933898]\n",
      " [-0.2881279  -1.47286896]\n",
      " [ 1.50108593 -1.05123529]\n",
      " [-1.18273482 -1.30421549]\n",
      " [ 1.50108593 -0.54527489]\n",
      " [ 0.15917555 -0.03931449]\n",
      " [-1.18273482  1.14125978]\n",
      " [ 0.15917555  1.56289345]\n",
      " [-1.18273482  1.30991325]\n",
      " [ 1.50108593 -0.54527489]\n",
      " [ 0.15917555 -0.03931449]\n",
      " [-1.18273482  1.14125978]]\n"
     ]
    }
   ],
   "source": [
    "import pandas as pd\n",
    "from sklearn.preprocessing import StandardScaler\n",
    "\n",
    "# Create a DataFrame\n",
    "dataa = data1[['Age','Salary']].copy()\n",
    "# Create a scaler object\n",
    "scaler = StandardScaler()\n",
    "\n",
    "# Fit the scaler on the data\n",
    "scaler.fit(dataa)\n",
    "\n",
    "# Transform the data\n",
    "scaled_data = scaler.transform(dataa)\n",
    "\n",
    "# Print the scaled data\n",
    "print(scaled_data)"
   ]
  },
  {
   "cell_type": "code",
   "execution_count": 42,
   "id": "c357160e",
   "metadata": {},
   "outputs": [
    {
     "name": "stdout",
     "output_type": "stream",
     "text": [
      "[[0.10714286 0.525     ]\n",
      " [0.35714286 0.525     ]\n",
      " [0.57142857 0.075     ]\n",
      " [0.71428571 0.125     ]\n",
      " [0.21428571 0.3       ]\n",
      " [0.42857143 0.425     ]\n",
      " [0.42857143 0.65      ]\n",
      " [0.21428571 0.725     ]\n",
      " [0.53571429 0.8       ]\n",
      " [0.85714286 0.925     ]\n",
      " [0.21428571 0.525     ]\n",
      " [0.53571429 0.        ]\n",
      " [0.85714286 0.525     ]\n",
      " [0.03571429 0.025     ]\n",
      " [0.71428571 0.125     ]\n",
      " [0.21428571 0.125     ]\n",
      " [0.21428571 0.15      ]\n",
      " [0.53571429 0.425     ]\n",
      " [0.17857143 0.525     ]\n",
      " [0.46428571 0.525     ]\n",
      " [0.64285714 0.2       ]\n",
      " [0.92857143 0.225     ]\n",
      " [0.14285714 0.4       ]\n",
      " [0.42857143 0.625     ]\n",
      " [0.42857143 0.75      ]\n",
      " [0.21428571 0.9       ]\n",
      " [0.53571429 0.85      ]\n",
      " [0.85714286 0.975     ]\n",
      " [0.21428571 1.        ]\n",
      " [0.57142857 0.05      ]\n",
      " [0.89285714 0.775     ]\n",
      " [0.10714286 0.1       ]\n",
      " [0.85714286 0.325     ]\n",
      " [0.60714286 0.475     ]\n",
      " [0.32142857 0.825     ]\n",
      " [0.57142857 0.95      ]\n",
      " [0.46428571 0.525     ]\n",
      " [0.57142857 0.525     ]\n",
      " [0.53571429 0.075     ]\n",
      " [0.75       0.125     ]\n",
      " [0.25       0.375     ]\n",
      " [0.42857143 0.425     ]\n",
      " [0.42857143 0.65      ]\n",
      " [0.28571429 0.725     ]\n",
      " [0.57142857 0.8       ]\n",
      " [0.89285714 0.925     ]\n",
      " [0.25       0.525     ]\n",
      " [0.46428571 0.        ]\n",
      " [0.78571429 0.525     ]\n",
      " [0.07142857 0.025     ]\n",
      " [0.75       0.125     ]\n",
      " [0.25       0.125     ]\n",
      " [0.14285714 0.15      ]\n",
      " [0.57142857 0.425     ]\n",
      " [0.14285714 0.7       ]\n",
      " [0.46428571 0.775     ]\n",
      " [0.67857143 0.2       ]\n",
      " [0.96428571 0.225     ]\n",
      " [0.21428571 0.4       ]\n",
      " [0.42857143 0.625     ]\n",
      " [0.42857143 0.75      ]\n",
      " [0.28571429 0.9       ]\n",
      " [0.60714286 0.85      ]\n",
      " [0.75       0.975     ]\n",
      " [0.28571429 0.675     ]\n",
      " [0.39285714 0.05      ]\n",
      " [0.75       0.525     ]\n",
      " [0.14285714 0.1       ]\n",
      " [0.78571429 0.325     ]\n",
      " [0.46428571 0.475     ]\n",
      " [0.14285714 0.825     ]\n",
      " [0.53571429 0.95      ]\n",
      " [0.25       0.525     ]\n",
      " [0.53571429 0.525     ]\n",
      " [0.64285714 0.075     ]\n",
      " [0.82142857 0.125     ]\n",
      " [0.46428571 0.3       ]\n",
      " [0.42857143 0.425     ]\n",
      " [0.42857143 0.65      ]\n",
      " [0.32142857 0.725     ]\n",
      " [0.46428571 0.8       ]\n",
      " [0.78571429 0.925     ]\n",
      " [0.17857143 0.525     ]\n",
      " [0.5        0.        ]\n",
      " [0.78571429 0.525     ]\n",
      " [0.         0.025     ]\n",
      " [0.75       0.125     ]\n",
      " [0.14285714 0.125     ]\n",
      " [0.42857143 0.15      ]\n",
      " [0.60714286 0.425     ]\n",
      " [0.14285714 0.525     ]\n",
      " [0.53571429 0.525     ]\n",
      " [0.42857143 0.2       ]\n",
      " [1.         0.225     ]\n",
      " [0.17857143 0.4       ]\n",
      " [0.42857143 0.625     ]\n",
      " [0.42857143 0.75      ]\n",
      " [0.17857143 0.9       ]\n",
      " [0.5        0.85      ]\n",
      " [0.82142857 0.975     ]\n",
      " [0.17857143 0.525     ]\n",
      " [0.42857143 0.05      ]\n",
      " [0.82142857 0.525     ]\n",
      " [0.17857143 0.1       ]\n",
      " [0.82142857 0.325     ]\n",
      " [0.5        0.475     ]\n",
      " [0.17857143 0.825     ]\n",
      " [0.42857143 0.95      ]\n",
      " [0.5        0.525     ]\n",
      " [0.5        0.525     ]\n",
      " [0.5        0.075     ]\n",
      " [0.42857143 0.25      ]\n",
      " [0.17857143 0.35      ]\n",
      " [0.42857143 0.55      ]\n",
      " [0.42857143 0.575     ]\n",
      " [0.17857143 0.875     ]\n",
      " [0.5        0.875     ]\n",
      " [0.82142857 1.        ]\n",
      " [0.17857143 0.525     ]\n",
      " [0.5        0.        ]\n",
      " [0.82142857 0.525     ]\n",
      " [0.42857143 0.025     ]\n",
      " [0.82142857 0.25      ]\n",
      " [0.42857143 0.275     ]\n",
      " [0.17857143 0.875     ]\n",
      " [0.5        0.6       ]\n",
      " [0.10714286 0.45      ]\n",
      " [0.35714286 0.5       ]\n",
      " [0.5        0.2       ]\n",
      " [0.92857143 0.225     ]\n",
      " [0.14285714 0.4       ]\n",
      " [0.42857143 0.625     ]\n",
      " [0.42857143 0.75      ]\n",
      " [0.17857143 0.9       ]\n",
      " [0.39285714 0.85      ]\n",
      " [0.71428571 0.975     ]\n",
      " [0.42857143 0.525     ]\n",
      " [0.39285714 0.05      ]\n",
      " [0.82142857 0.175     ]\n",
      " [0.17857143 0.1       ]\n",
      " [0.82142857 0.325     ]\n",
      " [0.5        0.475     ]\n",
      " [0.17857143 0.825     ]\n",
      " [0.5        0.95      ]\n",
      " [0.17857143 0.875     ]\n",
      " [0.82142857 0.325     ]\n",
      " [0.5        0.475     ]\n",
      " [0.17857143 0.825     ]]\n"
     ]
    }
   ],
   "source": [
    "from sklearn.preprocessing import MinMaxScaler\n",
    "\n",
    "# Create a scaler object\n",
    "scaler = MinMaxScaler()\n",
    "\n",
    "# Fit the scaler on the data\n",
    "scaler.fit(dataa)\n",
    "\n",
    "# Transform the data\n",
    "scaled_data = scaler.transform(dataa)\n",
    "\n",
    "# Print the scaled data\n",
    "print(scaled_data)"
   ]
  },
  {
   "cell_type": "code",
   "execution_count": null,
   "id": "8c466a78",
   "metadata": {},
   "outputs": [],
   "source": []
  }
 ],
 "metadata": {
  "kernelspec": {
   "display_name": "Python 3 (ipykernel)",
   "language": "python",
   "name": "python3"
  },
  "language_info": {
   "codemirror_mode": {
    "name": "ipython",
    "version": 3
   },
   "file_extension": ".py",
   "mimetype": "text/x-python",
   "name": "python",
   "nbconvert_exporter": "python",
   "pygments_lexer": "ipython3",
   "version": "3.11.1"
  }
 },
 "nbformat": 4,
 "nbformat_minor": 5
}
